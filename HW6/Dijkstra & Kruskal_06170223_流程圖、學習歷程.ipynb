{
 "cells": [
  {
   "cell_type": "markdown",
   "metadata": {},
   "source": [
    "### 參考資料：\n",
    "\n",
    "1. [上課ppt](https://docs.google.com/presentation/d/e/2PACX-1vTgHO5AkHJS6iN6bnnBMMdHv6E4rabnrC0KwyTRfjad8Ab3IQjbnGvZuQOjDC9t7nKqeroiwcuasJrI/pub?start=false&loop=false&delayms=3000&slide=id.g7b9afdb0e7_0_9) \n",
    "\n",
    "2. [Dijkstra's algorithm](http://nthucad.cs.nthu.edu.tw/~yyliu/personal/nou/04ds/dfs.html)"
   ]
  },
   {
   "cell_type": "markdown",
   "metadata": {},
   "source": [
    "這是Dijkstra的流程圖： \n"
   ]
  },
  {
   "cell_type": "code",
   "execution_count": 1,
   "metadata": {},
   "outputs": [
    {
     "data": {
      "text/html": [
       "<img src=\"https://github.com/yuu0223/code-learning/blob/master/image/D.jpg?raw=true\" width=\"1000\" height=\"1000\"/>"
      ],
      "text/plain": [
       "<IPython.core.display.Image object>"
      ]
     },
     "execution_count": 1,
     "metadata": {},
     "output_type": "execute_result"
    }
   ],
   "source": [
    "Image(url= \"https://github.com/yuu0223/code-learning/blob/master/image/D.jpg?raw=true\",width = 1000,height = 1000)"
   ]
  },
  {
   "cell_type": "code",
   "execution_count": 2,
   "metadata": {},
   "outputs": [
    {
     "data": {
      "text/html": [
       "<img src=\"https://github.com/yuu0223/code-learning/blob/master/image/D-2.jpg?raw=true\" width=\"1000\" height=\"1000\"/>"
      ],
      "text/plain": [
       "<IPython.core.display.Image object>"
      ]
     },
     "execution_count": 2,
     "metadata": {},
     "output_type": "execute_result"
    }
   ],
   "source": [
    "Image(url= \"https://github.com/yuu0223/code-learning/blob/master/image/D-2.jpg?raw=true\",width = 1000,height = 1000)"
   ]
  },
  {
   "cell_type": "markdown",
   "metadata": {},
   "source": [
    "畫完流程圖就來試著寫寫看程式碼 \n",
    "\n",
    "1. 設一個dict名為sure和一個放已走過確定node的list(sure_num)\n",
    "\n",
    "2. 將確定的node加入sure_num\n",
    "\n",
    "3. 並將該node的最短路徑放入sure\n",
    "\n",
    "4. 重複以上步驟直到所有數字都放進去了"
    "\n",
   ]
  },
  {
   "cell_type": "code",
   "execution_count": 28,
   "metadata": {},
   "outputs": [],
   "source": [
    "from collections import defaultdict \n",
    " \n",
    "class Graph(): \n",
    "\n",
    "    def __init__(self, vertices): \n",
    "        self.V = vertices \n",
    "        self.graph = [] \n",
    "        self.graph_matrix = [[0 for column in range(vertices)]  \n",
    "                    for row in range(vertices)] \n",
    "        \n",
    "        \n",
    "        \n",
    "    def Dijkstra(self, s): \n",
    "        \n",
    "        sure = {}\n",
    "        sure_num = []\n",
    "        \n",
    "        sure[s] = self.graph[s] #將起始點加進sure\n",
    "        sure_num.append(s) #將起始點也新增近sure_num\n",
    "        \n",
    "        last = sure[s] #直至上一個數字的路徑數\n",
    "        \n",
    "        def add(s):\n",
    " \n",
    "            for a in range(len(self.graph)):\n",
    "                if self.graph[s][a] != 0 and a not in sure_num: #找出和該點有連結的所有點\n",
    "\n",
    "                    second = last[s] + self.graph[s][a] #該點走至下一個點的路徑數\n",
    "                    \n",
    "                    if last[a] == 0:\n",
    "                        last[a] = second\n",
    "\n",
    "                    elif second < last[a]: #若路徑數比之前所儲存的還小則取代之前的\n",
    "                        last[a] = second\n",
    "\n",
    "            sure[s] = last \n",
    "            sure_num.append(s)\n",
    "            \n"
   ]
  },
  {
   "cell_type": "code",
   "execution_count": 29,
   "metadata": {},
   "outputs": [],
   "source": [
    "# 接下來要寫可以讓程式自動去尋找下一個node\n",
    "# 寫一個while迴圈，當sure_num長度和原始資料一樣長時則完成"
   ]
  },
  {
   "cell_type": "code",
   "execution_count": 46,
   "metadata": {},
   "outputs": [],
   "source": [
    "from collections import defaultdict \n",
    " \n",
    "class Graph(): \n",
    "\n",
    "    def __init__(self, vertices): \n",
    "        self.V = vertices \n",
    "        self.graph = [] \n",
    "        self.graph_matrix = [[0 for column in range(vertices)]  \n",
    "                    for row in range(vertices)] \n",
    "        \n",
    "        \n",
    "        \n",
    "    def Dijkstra(self, s): \n",
    "        \n",
    "        sure = {}\n",
    "        sure_num = []\n",
    "        \n",
    "        sure[s] = self.graph[s] #將起始點加進sure\n",
    "        sure_num.append(s) #將起始點也新增近sure_num\n",
    "        \n",
    "        last = sure[s] #直至上一個數字的路徑數\n",
    "        \n",
    "        def add(s):\n",
    " \n",
    "            for a in range(len(self.graph)):\n",
    "                if self.graph[s][a] != 0 and a not in sure_num: #找出和該點有連結的所有點\n",
    "\n",
    "                    second = last[s] + self.graph[s][a] #該點走至下一個點的路徑數\n",
    "                    \n",
    "                    if last[a] == 0:\n",
    "                        last[a] = second\n",
    "\n",
    "                    elif second < last[a]: #若路徑數比之前所儲存的還小則取代之前的\n",
    "                        last[a] = second\n",
    "\n",
    "            sure[s] = last\n",
    "            sure_num.append(s)\n",
    "            \n",
    "        \n",
    "        while len(self.graph) != len(sure_num):\n",
    "            find_min = max(last)\n",
    "            for i in range(len(self.graph)): #尋找下一個節點\n",
    "                if last[i] != 0 and i not in sure_num: #確定過的數字則不用再找\n",
    "                    if last[i] < find_min:\n",
    "                        find_min = last[i]\n",
    "                    \n",
    "            s = last.index(find_min)\n",
    "            \n",
    "            add(s)\n",
    "            \n",
    "        \n",
    "        ans = {}\n",
    "        for i in range(len(self.graph)):\n",
    "            ans[str(i)] = sure[s][i]\n",
    "            \n",
    "        return ans"
   ]
  },
  {
   "cell_type": "code",
   "execution_count": 47,
   "metadata": {},
   "outputs": [],
   "source": [
    "#接下來就用助教的測資來試試看"
   ]
  },
  {
   "cell_type": "code",
   "execution_count": 48,
   "metadata": {},
   "outputs": [],
   "source": [
    "g = Graph(9)"
   ]
  },
  {
   "cell_type": "code",
   "execution_count": 49,
   "metadata": {},
   "outputs": [],
   "source": [
    "g.graph = [[0,4,0,0,0,0,0,8,0],\n",
    "          [4,0,8,0,0,0,0,11,0],\n",
    "          [0,8,0,7,0,4,0,0,2],\n",
    "          [0,0,7,0,9,14,0,0,0],\n",
    "          [0,0,0,9,0,10,0,0,0],\n",
    "          [0,0,4,14,10,0,2,0,0],\n",
    "          [0,0,0,0,0,2,0,1,6],\n",
    "          [8,11,0,0,0,0,1,0,7],\n",
    "          [0,0,2,0,0,0,6,7,0]]"
   ]
  },
  {
   "cell_type": "code",
   "execution_count": 50,
   "metadata": {},
   "outputs": [
    {
     "name": "stdout",
     "output_type": "stream",
     "text": [
      "{'0': 0, '1': 4, '2': 12, '3': 19, '4': 21, '5': 11, '6': 9, '7': 8, '8': 14}\n"
     ]
    }
   ],
   "source": [
    "print(g.Dijkstra(0))"
   ]
  },
  {
   "cell_type": "code",
   "execution_count": 40,
   "metadata": {},
   "outputs": [],
   "source": [
    "#如此一來就完成了！"
   ]
  },
  {
   "cell_type": "code",
   "execution_count": null,
   "metadata": {},
   "outputs": [],
   "source": []
  }
 ],
 "metadata": {
  "kernelspec": {
   "display_name": "Python 3",
   "language": "python",
   "name": "python3"
  },
  "language_info": {
   "codemirror_mode": {
    "name": "ipython",
    "version": 3
   },
   "file_extension": ".py",
   "mimetype": "text/x-python",
   "name": "python",
   "nbconvert_exporter": "python",
   "pygments_lexer": "ipython3",
   "version": "3.7.3"
  }
 },
 "nbformat": 4,
 "nbformat_minor": 2
}
