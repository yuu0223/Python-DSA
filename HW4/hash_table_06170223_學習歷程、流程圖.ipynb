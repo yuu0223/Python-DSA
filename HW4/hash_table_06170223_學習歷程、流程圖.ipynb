{
 "cells": [
  {
   "cell_type": "markdown",
   "metadata": {},
   "source": [
    "* Reference:\n",
    "1. https://www.itread01.com/content/1541137210.html \n",
    "2. https://blog.techbridge.cc/2017/01/21/simple-hash-table-intro/ \n",
    "3. http://alrightchiu.github.io/SecondRound/hash-tableintrojian-jie.html"
   ]
  },
  {
   "cell_type": "markdown",
   "metadata": {},
   "source": [
    "先來介紹一下Hash、Hash Function和Hash Table～\n"
   ]
  },
  {
   "cell_type": "markdown",
   "metadata": {},
   "source": [
    "## About Hash(雜湊) \n",
    "* 一種對資料的處理方法，通過某種特定的函式/演算法，將要檢索的value與用來檢索的key(稱為雜湊or雜湊值)關聯起來，形成一個便於搜尋的資料結構(稱為雜湊表)。 \n",
    "* Hash並不是加密，是他的特性很適合拿來做加密的運算。\n"
   ]
  },
  {
   "cell_type": "markdown",
   "metadata": {},
   "source": [
    "## About Hash Function(雜湊函數) \n",
    "* 將各個長度不一樣的訊息輸入後，演算成長度固定的Hash值輸出，且計算出的雜湊值需符合以下兩點： \n",
    "  * 由Hash後的值不能反推回原本的訊息 \n",
    "  * Hash值須隨明文改變而改變 \n"
   ]
  },
  {
   "cell_type": "markdown",
   "metadata": {},
   "source": [
    "## About Hash Table(雜湊表) \n",
    "* 用Hash Function運算出來的雜湊值，根據key來儲存在Hash Table中。而存放這些記錄的數組就稱為Hash Table(雜湊表)。 \n",
    "* 每一個Hash Table裡都有n個bucket，而每個bucket裡也有n個slot。(n自行定義) \n"
   ]
  },
  {
   "cell_type": "markdown",
   "metadata": {},
   "source": [
    "接下來來畫流程圖～ \n"
   ]
  },
  {
   "cell_type": "markdown",
   "metadata": {},
   "source": [
    "這是Hash Table Add function的流程圖： \n"
   ]
  },
  {
   "cell_type": "code",
   "execution_count": 15,
   "metadata": {},
   "outputs": [
    {
     "data": {
      "text/html": [
       "<img src=\"https://github.com/yuu0223/code-learning/blob/master/image/hash_table_add.jpg?raw=true\" width=\"1000\" height=\"1000\"/>"
      ],
      "text/plain": [
       "<IPython.core.display.Image object>"
      ]
     },
     "execution_count": 15,
     "metadata": {},
     "output_type": "execute_result"
    }
   ],
   "source": [
    "Image(url= \"https://github.com/yuu0223/code-learning/blob/master/image/hash_table_add.jpg?raw=true\",width = 1000,height = 1000)"
   ]
  },
  {
   "cell_type": "markdown",
   "metadata": {},
   "source": [
    "這是Hash Table Remove function的流程圖： \n"
   ]
  },
  {
   "cell_type": "code",
   "execution_count": 16,
   "metadata": {},
   "outputs": [
    {
     "data": {
      "text/html": [
       "<img src=\"https://github.com/yuu0223/code-learning/blob/master/image/hash_table_remove.jpg?raw=true\" width=\"1000\" height=\"1000\"/>"
      ],
      "text/plain": [
       "<IPython.core.display.Image object>"
      ]
     },
     "execution_count": 16,
     "metadata": {},
     "output_type": "execute_result"
    }
   ],
   "source": [
    "Image(url= \"https://github.com/yuu0223/code-learning/blob/master/image/hash_table_remove.jpg?raw=true\",width = 1000,height = 1000)"
   ]
  },
  {
   "cell_type": "markdown",
   "metadata": {},
   "source": [
    "這是Hash Table Contains function的流程圖： \n"
   ]
  },
  {
   "cell_type": "code",
   "execution_count": 17,
   "metadata": {},
   "outputs": [
    {
     "data": {
      "text/html": [
       "<img src=\"https://github.com/yuu0223/code-learning/blob/master/image/hash_table_contains.jpg?raw=true\" width=\"1000\" height=\"1000\"/>"
      ],
      "text/plain": [
       "<IPython.core.display.Image object>"
      ]
     },
     "execution_count": 17,
     "metadata": {},
     "output_type": "execute_result"
    }
   ],
   "source": [
    "Image(url= \"https://github.com/yuu0223/code-learning/blob/master/image/hash_table_contains.jpg?raw=true\",width = 1000,height = 1000)"
   ]
  },
  {
   "cell_type": "markdown",
   "metadata": {},
   "source": [
    "接下來來試著寫程式碼～ \n"
   ]
  },
  {
   "cell_type": "code",
   "execution_count": 21,
   "metadata": {},
   "outputs": [],
   "source": [
    "from Cryptodome.Hash import MD5 as md5"
   ]
  },
  {
   "cell_type": "markdown",
   "metadata": {},
   "source": [
    "先寫一個def來將輸入的資料用MD5加密 \n"
   ]
  },
  {
   "cell_type": "code",
   "execution_count": 30,
   "metadata": {},
   "outputs": [],
   "source": [
    "class MyHashSet:\n",
    "    \n",
    "    def md5(self, val): #將輸入的值加密 \n",
    "            new = md5.new()\n",
    "            new.update(val.encode('utf-8'))\n",
    "            finish = new.hexdigest()\n",
    "            return finish"
   ]
  },
  {
   "cell_type": "code",
   "execution_count": 31,
   "metadata": {},
   "outputs": [
    {
     "data": {
      "text/plain": [
       "'49f68a5c8493ec2c0bf489821c21fc3b'"
      ]
     },
     "execution_count": 31,
     "metadata": {},
     "output_type": "execute_result"
    }
   ],
   "source": [
    "MyHashSet().md5('hi')"
   ]
  },
  {
   "cell_type": "markdown",
   "metadata": {},
   "source": [
    "加密完成。 \n"
   ]
  },
  {
   "cell_type": "code",
   "execution_count": null,
   "metadata": {},
   "outputs": [],
   "source": []
  },
  {
   "cell_type": "markdown",
   "metadata": {},
   "source": [
    "接下來寫一個def可以將輸入的值轉換為ASCII碼：\n",
    "1. 先設一個空的list來儲存轉換後的數字\n",
    "2. 寫一個for迴圈將輸入的val一個個轉為數字，並append到先前設置好空的list裡\n",
    "3. 再寫第二個for迴圈，將list裡面所有的數字加總起來"
   ]
  },
  {
   "cell_type": "code",
   "execution_count": 71,
   "metadata": {},
   "outputs": [],
   "source": [
    "class MyHashSet:\n",
    "    \n",
    "    def ascii_sum(self, val): #將輸入的值轉為數字\n",
    "        \n",
    "            ascii_word = [] #為了之後轉換的數字設一個空的list\n",
    "            total_sum = 0\n",
    "        \n",
    "            for i in val:\n",
    "                trans = ord(i) #將輸入的val一個個轉成數字\n",
    "                ascii_word.append(trans) \n",
    "            print(ascii_word)\n",
    "       "
   ]
  },
  {
   "cell_type": "markdown",
   "metadata": {},
   "source": [
    "來試試看有沒有成功 \n"
   ]
  },
  {
   "cell_type": "code",
   "execution_count": 73,
   "metadata": {},
   "outputs": [
    {
     "name": "stdout",
     "output_type": "stream",
     "text": [
      "[104, 111, 119, 32, 97, 114, 101, 32, 121, 111, 117]\n"
     ]
    }
   ],
   "source": [
    "MyHashSet().ascii_sum('how are you')"
   ]
  },
  {
   "cell_type": "markdown",
   "metadata": {},
   "source": [
    "接下來要將list裡的這些數字加總起來 \n"
   ]
  },
  {
   "cell_type": "code",
   "execution_count": 79,
   "metadata": {},
   "outputs": [],
   "source": [
    "class MyHashSet:\n",
    "    def ascii_sum(self, val): #將輸入的值轉為數字\n",
    "        \n",
    "            ascii_word = []\n",
    "            total_sum = 0\n",
    "            \n",
    "            for i in val:\n",
    "                trans = ord(i)\n",
    "                ascii_word.append(trans)\n",
    "            print(ascii_word)\n",
    "       \n",
    "            b =len(ascii_word)-1\n",
    "        \n",
    "            #第二個for迴圈是將所有的數字將總起來\n",
    "            for a in ascii_word:\n",
    "                sum_word = a*(10**b) #若是hi的話就是104*10+105\n",
    "                total_sum = total_sum+sum_word\n",
    "                b=b-1\n",
    "        \n",
    "            print(total_sum)\n",
    "            return total_sum"
   ]
  },
  {
   "cell_type": "markdown",
   "metadata": {},
   "source": [
    "來試試看有沒有成功 \n"
   ]
  },
  {
   "cell_type": "code",
   "execution_count": 81,
   "metadata": {},
   "outputs": [
    {
     "name": "stdout",
     "output_type": "stream",
     "text": [
      "[104, 105]\n",
      "1145\n"
     ]
    },
    {
     "data": {
      "text/plain": [
       "1145"
      ]
     },
     "execution_count": 81,
     "metadata": {},
     "output_type": "execute_result"
    }
   ],
   "source": [
    "MyHashSet().ascii_sum('hi')"
   ]
  },
  {
   "cell_type": "code",
   "execution_count": null,
   "metadata": {},
   "outputs": [],
   "source": []
  },
  {
   "cell_type": "markdown",
   "metadata": {},
   "source": [
    "再來，要寫一個def來取餘數決定這個val要放置在hash table的哪一個bucket\n",
    "1. 先利用前面寫的def ascii_sum將數字加總\n",
    "2. 再來去除以capacity去取於數"
   ]
  },
  {
   "cell_type": "code",
   "execution_count": 87,
   "metadata": {},
   "outputs": [],
   "source": [
    "class MyHashSet:\n",
    "    def mod(self, val): #將輸入之值取mod，並放進哪個位置\n",
    "        \n",
    "            number = self.ascii_sum(val) #將數字加總\n",
    "\n",
    "            mod = number%self.capacity\n",
    "            print(mod)\n",
    "        \n",
    "            return mod"
   ]
  },
  {
   "cell_type": "code",
   "execution_count": null,
   "metadata": {},
   "outputs": [],
   "source": []
  },
  {
   "cell_type": "markdown",
   "metadata": {},
   "source": [
    "前置作業做完了現在來開始寫add的def"
   ]
  },
  {
   "cell_type": "markdown",
   "metadata": {},
   "source": [
    "add的步驟：\n",
    "1. 將輸入的key取mod（決定將key放在哪個bucket）\n",
    "2. 將輸入的key做加密\n",
    "3. 若位置為None，創建一個空dict，並將加密後的key加進去\n",
    "4. 如果已經有值了，則直接新增一筆資料"
   ]
  },
  {
   "cell_type": "code",
   "execution_count": 97,
   "metadata": {},
   "outputs": [],
   "source": [
    "class MyHashSet: \n",
    "    def add(self, key):\n",
    "        \n",
    "            mod_key = self.mod(key) #取輸入key的mod，決定將key放在哪個bucket\n",
    "            md5_key = self.md5(key) #將輸入的key做加密\n",
    "        \n",
    "            if self.data[mod_key] == None: #若位置為None，創建一個空dict\n",
    "                dict = {}\n",
    "                self.data[mod_key] = dict\n",
    "                self.data[mod_key][key] = md5_key #將加密後的key加進去\n",
    "            \n",
    "            else:\n",
    "                self.data[mod_key][key] = md5_key #如果已經有值了，則直接新增一筆資料\n",
    "            \n",
    "            return self.data"
   ]
  },
  {
   "cell_type": "markdown",
   "metadata": {},
   "source": [
    "add就完成了"
   ]
  },
  {
   "cell_type": "code",
   "execution_count": null,
   "metadata": {},
   "outputs": [],
   "source": []
  },
  {
   "cell_type": "markdown",
   "metadata": {},
   "source": [
    "再來是remove的def\n",
    "remove的步驟如下：\n",
    "1. 將輸入的key取mod（決定將key放在哪個bucket）\n",
    "2. 將輸入的key做加密\n",
    "3. 若在hash table內找不到輸入的key，則不做任何動作\n",
    "4. 若有則找到key值，然後直接刪除"
   ]
  },
  {
   "cell_type": "code",
   "execution_count": 104,
   "metadata": {},
   "outputs": [],
   "source": [
    "def remove(self, key):\n",
    "    \n",
    "        mod_key = self.mod(key)\n",
    "        md5_key = self.md5(key)\n",
    "        \n",
    "        if self.data[mod_key] == None:\n",
    "            return \n",
    "        #若在hash table內找不到輸入的key，則不做任何動作\n",
    "        \n",
    "        else:\n",
    "            self.data[mod_key].pop(key)\n",
    "        #若有則找到key值，然後直接刪除 \n",
    "        \n",
    "        return self.data"
   ]
  },
  {
   "cell_type": "markdown",
   "metadata": {},
   "source": [
    "remove也完成了"
   ]
  },
  {
   "cell_type": "code",
   "execution_count": null,
   "metadata": {},
   "outputs": [],
   "source": []
  },
  {
   "cell_type": "markdown",
   "metadata": {},
   "source": [
    "接下來是contains的步驟：\n",
    "1. 將輸入的key取mod（決定將key放在哪個bucket）\n",
    "2. 將輸入的key做加密\n",
    "3. 去判斷所輸入的key值是不是在hash table內"
   ]
  },
  {
   "cell_type": "code",
   "execution_count": 112,
   "metadata": {},
   "outputs": [],
   "source": [
    "def contains(self, key):\n",
    "        \n",
    "        mod_key = self.mod(key)\n",
    "        md5_key = self.md5(key)\n",
    "        \n",
    "        if self.data[mod_key] != None: #若該bucket不為None\n",
    "            if key in self.data[mod_key]: #key值在該bucket中，則return true\n",
    "                return True\n",
    "            \n",
    "            else: #若key值不在該bucket中，則return false\n",
    "                return False\n",
    "            \n",
    "        else: #若該bucket為None\n",
    "            return False"
   ]
  },
  {
   "cell_type": "markdown",
   "metadata": {},
   "source": [
    "contains也完成了！"
   ]
  },
  {
   "cell_type": "code",
   "execution_count": null,
   "metadata": {},
   "outputs": [],
   "source": []
  },
  {
   "cell_type": "markdown",
   "metadata": {},
   "source": [
    "把所有的程式碼放進MyHashSet裡測試"
   ]
  },
  {
   "cell_type": "code",
   "execution_count": 121,
   "metadata": {},
   "outputs": [],
   "source": [
    "from Cryptodome.Hash import MD5 as md5\n",
    "class ListNode:\n",
    "    def __init__(self, value):\n",
    "        self.val = value\n",
    "        self.next = None\n",
    "            \n",
    "class MyHashSet:\n",
    "    def __init__(self, capacity):\n",
    "        self.capacity = capacity\n",
    "        self.data = [None] * capacity\n",
    "        \n",
    "        \n",
    "    def md5(self, val): #將輸入的值加密\n",
    "        \n",
    "        new = md5.new()\n",
    "        new.update(val.encode('utf-8'))\n",
    "        finish = new.hexdigest()\n",
    "        return finish\n",
    "        \n",
    "    def ascii_sum(self, val): #將輸入的值轉為數字\n",
    "        \n",
    "        ascii_word = []\n",
    "        total_sum = 0\n",
    "        \n",
    "        for i in val:\n",
    "            trans = ord(i)\n",
    "            ascii_word.append(trans)\n",
    "       \n",
    "        b =len(ascii_word)-1\n",
    "        \n",
    "        for a in ascii_word:\n",
    "            sum_word = a*(10**b)\n",
    "            total_sum = total_sum+sum_word\n",
    "            b=b-1\n",
    "        \n",
    "        return total_sum\n",
    "        \n",
    "    \n",
    "    def mod(self, val): #將輸入之值取mod，並放進哪個位置\n",
    "        \n",
    "        number = self.ascii_sum(val)\n",
    "        mod = number%self.capacity\n",
    "        \n",
    "        return mod\n",
    "        \n",
    "        \n",
    "    def add(self, key):\n",
    "        \n",
    "        mod_key = self.mod(key)\n",
    "        md5_key = self.md5(key)\n",
    "        \n",
    "        if self.data[mod_key] == None:\n",
    "            dict = {}\n",
    "            self.data[mod_key] = dict\n",
    "            self.data[mod_key][key] = md5_key \n",
    "            \n",
    "        else:\n",
    "            self.data[mod_key][key] = md5_key\n",
    "    \n",
    "    \n",
    "    \n",
    "    def remove(self, key):\n",
    "        \n",
    "        mod_key = self.mod(key)\n",
    "        md5_key = self.md5(key)\n",
    "        \n",
    "        if self.data[mod_key] == None:\n",
    "            return \n",
    "            \n",
    "        else:\n",
    "            self.data[mod_key].pop(key)\n",
    "            \n",
    "        \n",
    "    \n",
    "    \n",
    "    def contains(self, key):\n",
    "        \n",
    "        mod_key = self.mod(key)\n",
    "        md5_key = self.md5(key)\n",
    "        \n",
    "        if self.data[mod_key] != None:\n",
    "            if key in self.data[mod_key]:\n",
    "                return True\n",
    "            \n",
    "            else:\n",
    "                return False\n",
    "            \n",
    "        else:\n",
    "            return False"
   ]
  },
  {
   "cell_type": "markdown",
   "metadata": {},
   "source": [
    "利用助教給的測資範例"
   ]
  },
  {
   "cell_type": "code",
   "execution_count": 123,
   "metadata": {},
   "outputs": [],
   "source": [
    "hashset = MyHashSet(17)"
   ]
  },
  {
   "cell_type": "code",
   "execution_count": 124,
   "metadata": {},
   "outputs": [],
   "source": [
    "hashset.add('dog')"
   ]
  },
  {
   "cell_type": "code",
   "execution_count": 125,
   "metadata": {},
   "outputs": [],
   "source": [
    "hashset.add('pig')"
   ]
  },
  {
   "cell_type": "code",
   "execution_count": 126,
   "metadata": {},
   "outputs": [
    {
     "name": "stdout",
     "output_type": "stream",
     "text": [
      "True\n"
     ]
    }
   ],
   "source": [
    "rel = hashset.contains('pig')\n",
    "print(rel)"
   ]
  },
  {
   "cell_type": "code",
   "execution_count": 127,
   "metadata": {},
   "outputs": [
    {
     "name": "stdout",
     "output_type": "stream",
     "text": [
      "True\n"
     ]
    }
   ],
   "source": [
    "rel = hashset.contains('dog')\n",
    "print(rel)"
   ]
  },
  {
   "cell_type": "code",
   "execution_count": 128,
   "metadata": {},
   "outputs": [
    {
     "name": "stdout",
     "output_type": "stream",
     "text": [
      "False\n"
     ]
    }
   ],
   "source": [
    "rel = hashset.contains('cat')\n",
    "print(rel)"
   ]
  },
  {
   "cell_type": "code",
   "execution_count": 129,
   "metadata": {},
   "outputs": [],
   "source": [
    "hashset.add('bird')"
   ]
  },
  {
   "cell_type": "code",
   "execution_count": 130,
   "metadata": {},
   "outputs": [
    {
     "name": "stdout",
     "output_type": "stream",
     "text": [
      "True\n"
     ]
    }
   ],
   "source": [
    "rel = hashset.contains('bird')\n",
    "print(rel)"
   ]
  },
  {
   "cell_type": "code",
   "execution_count": 133,
   "metadata": {},
   "outputs": [],
   "source": [
    "hashset.remove('pig')"
   ]
  },
  {
   "cell_type": "code",
   "execution_count": 134,
   "metadata": {},
   "outputs": [
    {
     "name": "stdout",
     "output_type": "stream",
     "text": [
      "False\n"
     ]
    }
   ],
   "source": [
    "rel = hashset.contains('pig')\n",
    "print(rel)"
   ]
  },
  {
   "cell_type": "markdown",
   "metadata": {},
   "source": [
    "所有測資都一致，hash table就完成了！"
   ]
  }
 ],
 "metadata": {
  "kernelspec": {
   "display_name": "Python 3",
   "language": "python",
   "name": "python3"
  },
  "language_info": {
   "codemirror_mode": {
    "name": "ipython",
    "version": 3
   },
   "file_extension": ".py",
   "mimetype": "text/x-python",
   "name": "python",
   "nbconvert_exporter": "python",
   "pygments_lexer": "ipython3",
   "version": "3.7.3"
  }
 },
 "nbformat": 4,
 "nbformat_minor": 2
}
