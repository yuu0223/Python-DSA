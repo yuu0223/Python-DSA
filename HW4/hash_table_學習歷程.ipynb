{
 "cells": [
  {
   "cell_type": "code",
   "execution_count": 21,
   "metadata": {},
   "outputs": [],
   "source": [
    "from Cryptodome.Hash import MD5 as md5"
   ]
  },
  {
   "cell_type": "code",
   "execution_count": 22,
   "metadata": {},
   "outputs": [],
   "source": [
    "#先寫一個def來將輸入的資料用MD5加密"
   ]
  },
  {
   "cell_type": "code",
   "execution_count": 30,
   "metadata": {},
   "outputs": [],
   "source": [
    "class MyHashSet:\n",
    "    \n",
    "    def md5(self, val): #將輸入的值加密 \n",
    "            new = md5.new()\n",
    "            new.update(val.encode('utf-8'))\n",
    "            finish = new.hexdigest()\n",
    "            return finish"
   ]
  },
  {
   "cell_type": "code",
   "execution_count": 31,
   "metadata": {},
   "outputs": [
    {
     "data": {
      "text/plain": [
       "'49f68a5c8493ec2c0bf489821c21fc3b'"
      ]
     },
     "execution_count": 31,
     "metadata": {},
     "output_type": "execute_result"
    }
   ],
   "source": [
    "MyHashSet().md5('hi')"
   ]
  },
  {
   "cell_type": "code",
   "execution_count": 32,
   "metadata": {},
   "outputs": [],
   "source": [
    "#加密完成"
   ]
  },
  {
   "cell_type": "code",
   "execution_count": null,
   "metadata": {},
   "outputs": [],
   "source": []
  },
  {
   "cell_type": "code",
   "execution_count": 67,
   "metadata": {},
   "outputs": [],
   "source": [
    "#接下來寫一個def可以將輸入的值轉換為ASCII碼：\n",
    "#1. 先設一個空的list來儲存轉換後的數字\n",
    "#2. 寫一個for迴圈將輸入的val一個個轉為數字，並append到先前設置好空的list裡\n",
    "#3. 再寫第二個for迴圈，將list裡面所有的數字加總起來"
   ]
  },
  {
   "cell_type": "code",
   "execution_count": 71,
   "metadata": {},
   "outputs": [],
   "source": [
    "class MyHashSet:\n",
    "    \n",
    "    def ascii_sum(self, val): #將輸入的值轉為數字\n",
    "        \n",
    "            ascii_word = [] #為了之後轉換的數字設一個空的list\n",
    "            total_sum = 0\n",
    "        \n",
    "            for i in val:\n",
    "                trans = ord(i) #將輸入的val一個個轉成數字\n",
    "                ascii_word.append(trans) \n",
    "            print(ascii_word)\n",
    "       "
   ]
  },
  {
   "cell_type": "code",
   "execution_count": 72,
   "metadata": {},
   "outputs": [],
   "source": [
    "#來試試看有沒有成功"
   ]
  },
  {
   "cell_type": "code",
   "execution_count": 73,
   "metadata": {},
   "outputs": [
    {
     "name": "stdout",
     "output_type": "stream",
     "text": [
      "[104, 111, 119, 32, 97, 114, 101, 32, 121, 111, 117]\n"
     ]
    }
   ],
   "source": [
    "MyHashSet().ascii_sum('how are you')"
   ]
  },
  {
   "cell_type": "code",
   "execution_count": 74,
   "metadata": {},
   "outputs": [],
   "source": [
    "#接下來要將list裡的這些數字加總起來"
   ]
  },
  {
   "cell_type": "code",
   "execution_count": 79,
   "metadata": {},
   "outputs": [],
   "source": [
    "class MyHashSet:\n",
    "    def ascii_sum(self, val): #將輸入的值轉為數字\n",
    "        \n",
    "            ascii_word = []\n",
    "            total_sum = 0\n",
    "            \n",
    "            for i in val:\n",
    "                trans = ord(i)\n",
    "                ascii_word.append(trans)\n",
    "            print(ascii_word)\n",
    "       \n",
    "            b =len(ascii_word)-1\n",
    "        \n",
    "            #第二個for迴圈是將所有的數字將總起來\n",
    "            for a in ascii_word:\n",
    "                sum_word = a*(10**b) #若是hi的話就是104*10+105\n",
    "                total_sum = total_sum+sum_word\n",
    "                b=b-1\n",
    "        \n",
    "            print(total_sum)\n",
    "            return total_sum"
   ]
  },
  {
   "cell_type": "code",
   "execution_count": 80,
   "metadata": {},
   "outputs": [],
   "source": [
    "#來試試看有沒有成功"
   ]
  },
  {
   "cell_type": "code",
   "execution_count": 81,
   "metadata": {},
   "outputs": [
    {
     "name": "stdout",
     "output_type": "stream",
     "text": [
      "[104, 105]\n",
      "1145\n"
     ]
    },
    {
     "data": {
      "text/plain": [
       "1145"
      ]
     },
     "execution_count": 81,
     "metadata": {},
     "output_type": "execute_result"
    }
   ],
   "source": [
    "MyHashSet().ascii_sum('hi')"
   ]
  },
  {
   "cell_type": "code",
   "execution_count": null,
   "metadata": {},
   "outputs": [],
   "source": []
  },
  {
   "cell_type": "code",
   "execution_count": 82,
   "metadata": {},
   "outputs": [],
   "source": [
    "#再來，要寫一個def來取餘數決定這個val要放置在hash table的哪一個bucket\n",
    "#1. 先利用前面寫的def ascii_sum將數字加總\n",
    "#2. 再來去除以capacity去取於數"
   ]
  },
  {
   "cell_type": "code",
   "execution_count": 87,
   "metadata": {},
   "outputs": [],
   "source": [
    "class MyHashSet:\n",
    "    def mod(self, val): #將輸入之值取mod，並放進哪個位置\n",
    "        \n",
    "            number = self.ascii_sum(val) #將數字加總\n",
    "\n",
    "            mod = number%self.capacity\n",
    "            print(mod)\n",
    "        \n",
    "            return mod"
   ]
  },
  {
   "cell_type": "code",
   "execution_count": null,
   "metadata": {},
   "outputs": [],
   "source": []
  },
  {
   "cell_type": "code",
   "execution_count": 88,
   "metadata": {},
   "outputs": [],
   "source": [
    "#前置作業做完了現在來開始寫add的def"
   ]
  },
  {
   "cell_type": "code",
   "execution_count": 91,
   "metadata": {},
   "outputs": [],
   "source": [
    "#add的步驟：\n",
    "#1. 將輸入的key取mod（決定將key放在哪個bucket）\n",
    "#2. 將輸入的key做加密\n",
    "#3. 若位置為None，創建一個空dict，並將加密後的key加進去\n",
    "#4. 如果已經有值了，則直接新增一筆資料"
   ]
  },
  {
   "cell_type": "code",
   "execution_count": 97,
   "metadata": {},
   "outputs": [],
   "source": [
    "class MyHashSet: \n",
    "    def add(self, key):\n",
    "        \n",
    "            mod_key = self.mod(key) #取輸入key的mod，決定將key放在哪個bucket\n",
    "            md5_key = self.md5(key) #將輸入的key做加密\n",
    "        \n",
    "            if self.data[mod_key] == None: #若位置為None，創建一個空dict\n",
    "                dict = {}\n",
    "                self.data[mod_key] = dict\n",
    "                self.data[mod_key][key] = md5_key #將加密後的key加進去\n",
    "            \n",
    "            else:\n",
    "                self.data[mod_key][key] = md5_key #如果已經有值了，則直接新增一筆資料\n",
    "            \n",
    "            return self.data"
   ]
  },
  {
   "cell_type": "code",
   "execution_count": 98,
   "metadata": {},
   "outputs": [],
   "source": [
    "#add就完成了"
   ]
  },
  {
   "cell_type": "code",
   "execution_count": null,
   "metadata": {},
   "outputs": [],
   "source": []
  },
  {
   "cell_type": "code",
   "execution_count": 100,
   "metadata": {},
   "outputs": [],
   "source": [
    "#再來是remove的def\n",
    "#remove的步驟如下：\n",
    "#1. 將輸入的key取mod（決定將key放在哪個bucket）\n",
    "#2. 將輸入的key做加密\n",
    "#3. 若在hash table內找不到輸入的key，則不做任何動作\n",
    "#4. 若有則找到key值，然後直接刪除"
   ]
  },
  {
   "cell_type": "code",
   "execution_count": 104,
   "metadata": {},
   "outputs": [],
   "source": [
    "def remove(self, key):\n",
    "    \n",
    "        mod_key = self.mod(key)\n",
    "        md5_key = self.md5(key)\n",
    "        \n",
    "        if self.data[mod_key] == None:\n",
    "            return \n",
    "        #若在hash table內找不到輸入的key，則不做任何動作\n",
    "        \n",
    "        else:\n",
    "            self.data[mod_key].pop(key)\n",
    "        #若有則找到key值，然後直接刪除 \n",
    "        \n",
    "        return self.data"
   ]
  },
  {
   "cell_type": "code",
   "execution_count": 105,
   "metadata": {},
   "outputs": [],
   "source": [
    "#remove也完成了"
   ]
  },
  {
   "cell_type": "code",
   "execution_count": null,
   "metadata": {},
   "outputs": [],
   "source": []
  },
  {
   "cell_type": "code",
   "execution_count": 107,
   "metadata": {},
   "outputs": [],
   "source": [
    "#接下來是contains的步驟：\n",
    "#1. 將輸入的key取mod（決定將key放在哪個bucket）\n",
    "#2. 將輸入的key做加密\n",
    "#3. 去判斷所輸入的key值是不是在hash table內"
   ]
  },
  {
   "cell_type": "code",
   "execution_count": 112,
   "metadata": {},
   "outputs": [],
   "source": [
    "def contains(self, key):\n",
    "        \n",
    "        mod_key = self.mod(key)\n",
    "        md5_key = self.md5(key)\n",
    "        \n",
    "        if self.data[mod_key] != None: #若該bucket不為None\n",
    "            if key in self.data[mod_key]: #key值在該bucket中，則return true\n",
    "                return True\n",
    "            \n",
    "            else: #若key值不在該bucket中，則return false\n",
    "                return False\n",
    "            \n",
    "        else: #若該bucket為None\n",
    "            return False"
   ]
  },
  {
   "cell_type": "code",
   "execution_count": 113,
   "metadata": {},
   "outputs": [],
   "source": [
    "#contains也完成了！"
   ]
  },
  {
   "cell_type": "code",
   "execution_count": null,
   "metadata": {},
   "outputs": [],
   "source": []
  },
  {
   "cell_type": "code",
   "execution_count": 115,
   "metadata": {},
   "outputs": [],
   "source": [
    "#把所有的程式碼放進MyHashSet裡測試"
   ]
  },
  {
   "cell_type": "code",
   "execution_count": 121,
   "metadata": {},
   "outputs": [],
   "source": [
    "from Cryptodome.Hash import MD5 as md5\n",
    "class ListNode:\n",
    "    def __init__(self, value):\n",
    "        self.val = value\n",
    "        self.next = None\n",
    "            \n",
    "class MyHashSet:\n",
    "    def __init__(self, capacity):\n",
    "        self.capacity = capacity\n",
    "        self.data = [None] * capacity\n",
    "        \n",
    "        \n",
    "    def md5(self, val): #將輸入的值加密\n",
    "        \n",
    "        new = md5.new()\n",
    "        new.update(val.encode('utf-8'))\n",
    "        finish = new.hexdigest()\n",
    "        return finish\n",
    "        \n",
    "    def ascii_sum(self, val): #將輸入的值轉為數字\n",
    "        \n",
    "        ascii_word = []\n",
    "        total_sum = 0\n",
    "        \n",
    "        for i in val:\n",
    "            trans = ord(i)\n",
    "            ascii_word.append(trans)\n",
    "       \n",
    "        b =len(ascii_word)-1\n",
    "        \n",
    "        for a in ascii_word:\n",
    "            sum_word = a*(10**b)\n",
    "            total_sum = total_sum+sum_word\n",
    "            b=b-1\n",
    "        \n",
    "        return total_sum\n",
    "        \n",
    "    \n",
    "    def mod(self, val): #將輸入之值取mod，並放進哪個位置\n",
    "        \n",
    "        number = self.ascii_sum(val)\n",
    "        mod = number%self.capacity\n",
    "        \n",
    "        return mod\n",
    "        \n",
    "        \n",
    "    def add(self, key):\n",
    "        \n",
    "        mod_key = self.mod(key)\n",
    "        md5_key = self.md5(key)\n",
    "        \n",
    "        if self.data[mod_key] == None:\n",
    "            dict = {}\n",
    "            self.data[mod_key] = dict\n",
    "            self.data[mod_key][key] = md5_key \n",
    "            \n",
    "        else:\n",
    "            self.data[mod_key][key] = md5_key\n",
    "    \n",
    "    \n",
    "    \n",
    "    def remove(self, key):\n",
    "        \n",
    "        mod_key = self.mod(key)\n",
    "        md5_key = self.md5(key)\n",
    "        \n",
    "        if self.data[mod_key] == None:\n",
    "            return \n",
    "            \n",
    "        else:\n",
    "            self.data[mod_key].pop(key)\n",
    "            \n",
    "        \n",
    "    \n",
    "    \n",
    "    def contains(self, key):\n",
    "        \n",
    "        mod_key = self.mod(key)\n",
    "        md5_key = self.md5(key)\n",
    "        \n",
    "        if self.data[mod_key] != None:\n",
    "            if key in self.data[mod_key]:\n",
    "                return True\n",
    "            \n",
    "            else:\n",
    "                return False\n",
    "            \n",
    "        else:\n",
    "            return False"
   ]
  },
  {
   "cell_type": "code",
   "execution_count": 122,
   "metadata": {},
   "outputs": [],
   "source": [
    "#利用助教給的測資範例"
   ]
  },
  {
   "cell_type": "code",
   "execution_count": 123,
   "metadata": {},
   "outputs": [],
   "source": [
    "hashset = MyHashSet(17)"
   ]
  },
  {
   "cell_type": "code",
   "execution_count": 124,
   "metadata": {},
   "outputs": [],
   "source": [
    "hashset.add('dog')"
   ]
  },
  {
   "cell_type": "code",
   "execution_count": 125,
   "metadata": {},
   "outputs": [],
   "source": [
    "hashset.add('pig')"
   ]
  },
  {
   "cell_type": "code",
   "execution_count": 126,
   "metadata": {},
   "outputs": [
    {
     "name": "stdout",
     "output_type": "stream",
     "text": [
      "True\n"
     ]
    }
   ],
   "source": [
    "rel = hashset.contains('pig')\n",
    "print(rel)"
   ]
  },
  {
   "cell_type": "code",
   "execution_count": 127,
   "metadata": {},
   "outputs": [
    {
     "name": "stdout",
     "output_type": "stream",
     "text": [
      "True\n"
     ]
    }
   ],
   "source": [
    "rel = hashset.contains('dog')\n",
    "print(rel)"
   ]
  },
  {
   "cell_type": "code",
   "execution_count": 128,
   "metadata": {},
   "outputs": [
    {
     "name": "stdout",
     "output_type": "stream",
     "text": [
      "False\n"
     ]
    }
   ],
   "source": [
    "rel = hashset.contains('cat')\n",
    "print(rel)"
   ]
  },
  {
   "cell_type": "code",
   "execution_count": 129,
   "metadata": {},
   "outputs": [],
   "source": [
    "hashset.add('bird')"
   ]
  },
  {
   "cell_type": "code",
   "execution_count": 130,
   "metadata": {},
   "outputs": [
    {
     "name": "stdout",
     "output_type": "stream",
     "text": [
      "True\n"
     ]
    }
   ],
   "source": [
    "rel = hashset.contains('bird')\n",
    "print(rel)"
   ]
  },
  {
   "cell_type": "code",
   "execution_count": 133,
   "metadata": {},
   "outputs": [],
   "source": [
    "hashset.remove('pig')"
   ]
  },
  {
   "cell_type": "code",
   "execution_count": 134,
   "metadata": {},
   "outputs": [
    {
     "name": "stdout",
     "output_type": "stream",
     "text": [
      "False\n"
     ]
    }
   ],
   "source": [
    "rel = hashset.contains('pig')\n",
    "print(rel)"
   ]
  },
  {
   "cell_type": "code",
   "execution_count": 135,
   "metadata": {},
   "outputs": [],
   "source": [
    "#所有測資都一致，hash table就完成了！"
   ]
  },
  {
   "cell_type": "code",
   "execution_count": 136,
   "metadata": {},
   "outputs": [],
   "source": [
    "#ref\n",
    "#https://www.itread01.com/content/1541137210.html\n",
    "#https://blog.techbridge.cc/2017/01/21/simple-hash-table-intro/\n",
    "#http://alrightchiu.github.io/SecondRound/hash-tableintrojian-jie.html"
   ]
  },
  {
   "cell_type": "code",
   "execution_count": null,
   "metadata": {},
   "outputs": [],
   "source": []
  }
 ],
 "metadata": {
  "kernelspec": {
   "display_name": "Python 3",
   "language": "python",
   "name": "python3"
  },
  "language_info": {
   "codemirror_mode": {
    "name": "ipython",
    "version": 3
   },
   "file_extension": ".py",
   "mimetype": "text/x-python",
   "name": "python",
   "nbconvert_exporter": "python",
   "pygments_lexer": "ipython3",
   "version": "3.7.3"
  }
 },
 "nbformat": 4,
 "nbformat_minor": 2
}
