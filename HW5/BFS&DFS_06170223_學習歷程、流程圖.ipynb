{
 "cells": [
  {
   "cell_type": "markdown",
   "metadata": {},
   "source": [
    "### 參考資料 - BFS：\n",
    "\n",
    "1. [Graph: Breadth-First Search(BFS，廣度優先搜尋)](https://alrightchiu.github.io/SecondRound/graph-breadth-first-searchbfsguang-du-you-xian-sou-xun.html) \n",
    "\n",
    "2. [橫向優先搜尋 (breadth-first search)](http://nthucad.cs.nthu.edu.tw/~yyliu/personal/nou/04ds/bfs.html)"
   ]
  },
  {
   "cell_type": "markdown",
   "metadata": {},
   "source": [
    "### 參考資料 - DFS：\n",
    "\n",
    "1. [維基百科 - DFS](https://en.wikipedia.org/wiki/Depth-first_search) \n",
    "\n",
    "2. [縱向優先搜尋 (depth-first search)](http://nthucad.cs.nthu.edu.tw/~yyliu/personal/nou/04ds/dfs.html)",
    "\n",
    "3. [Graph: Depth-First Search(DFS，深度優先搜尋)](https://alrightchiu.github.io/SecondRound/graph-depth-first-searchdfsshen-du-you-xian-sou-xun.html)"
   ]
  },
   {
   "cell_type": "markdown",
   "metadata": {},
   "source": [
    "這是BFS的流程圖： \n"
   ]
  },
  {
   "cell_type": "code",
   "execution_count": 1,
   "metadata": {},
   "outputs": [
    {
     "data": {
      "text/html": [
       "<img src=\"https://github.com/yuu0223/code-learning/blob/master/image/BFS.jpg?raw=true\" width=\"1000\" height=\"1000\"/>"
      ],
      "text/plain": [
       "<IPython.core.display.Image object>"
      ]
     },
     "execution_count": 1,
     "metadata": {},
     "output_type": "execute_result"
    }
   ],
   "source": [
    "Image(url= \"https://github.com/yuu0223/code-learning/blob/master/image/BFS.jpg?raw=true\",width = 1000,height = 1000)"
   ]
  },
  {
   "cell_type": "markdown",
   "metadata": {},
   "source": [
    "這是DFS的流程圖： \n"
   ]
  },
  {
   "cell_type": "code",
   "execution_count": 2,
   "metadata": {},
   "outputs": [
    {
     "data": {
      "text/html": [
       "<img src=\"https://github.com/yuu0223/code-learning/blob/master/image/DFS.jpg?raw=true\" width=\"1000\" height=\"1000\"/>"
      ],
      "text/plain": [
       "<IPython.core.display.Image object>"
      ]
     },
     "execution_count": 2,
     "metadata": {},
     "output_type": "execute_result"
    }
   ],
   "source": [
    "Image(url= \"https://github.com/yuu0223/code-learning/blob/master/image/DFS.jpg?raw=true\",width = 1000,height = 1000)"
   ]
  },
  {
   "cell_type": "code",
   "execution_count": 3,
   "metadata": {},
   "outputs": [],
   "source": [
    "from collections import defaultdict"
   ]
  },
  {
   "cell_type": "markdown",
   "metadata": {},
   "source": [
    "首先，設置一個暫存的list(store)和一個確定路徑的list(sure) \n",
    "\n",
    "並寫一個for迴圈讓每個數字都可以被檢查過 \n",
    "\n",
    "在for迴圈裡設判斷，若選擇的點s不在store和sure中，就新增進暫存的store"
   ]
  },
  {
   "cell_type": "code",
   "execution_count": 19,
   "metadata": {},
   "outputs": [],
   "source": [
    "class Graph:\n",
    "    \n",
    "    def __init__(self):\n",
    "        self.graph = defaultdict(list) \n",
    "\n",
    "        \n",
    "    def addEdge(self,u,v): \n",
    "        self.graph[u].append(v) \n",
    "        return self.graph\n",
    "\n",
    "    \n",
    "    def BFS(self, s):\n",
    "        \n",
    "        store = [] #暫存的list\n",
    "        sure = [] #確定的list\n",
    "        \n",
    "        for a in range(len(self.graph)): #self.graph的長度=要排序的個數\n",
    "            if s not in store:\n",
    "                    if s not in sure:\n",
    "                        store.append(s) #若s皆不在暫存及確定的list中則新增進暫存的list\n",
    "        "
   ]
  },
  {
   "cell_type": "markdown",
   "metadata": {},
   "source": [
    "接下來\n",
    "\n",
    "再寫一個for迴圈將存在位置s的所有元素新增進暫存的store"
   ]
  },
  {
   "cell_type": "code",
   "execution_count": 33,
   "metadata": {},
   "outputs": [],
   "source": [
    "class Graph:\n",
    "    \n",
    "    def __init__(self):\n",
    "        self.graph = defaultdict(list) \n",
    "\n",
    "        \n",
    "    def addEdge(self,u,v): \n",
    "        self.graph[u].append(v) \n",
    "        return self.graph\n",
    "\n",
    "    \n",
    "    def BFS(self, s):\n",
    "        \n",
    "        store = [] #暫存的list\n",
    "        sure = [] #確定的list\n",
    "        \n",
    "        for a in range(len(self.graph)): #self.graph的長度=要排序的個數\n",
    "            if s not in store:\n",
    "                    if s not in sure:\n",
    "                        store.append(s) #若s皆不在暫存及確定的list中則新增進暫存的list\n",
    "        \n",
    "            for i in self.graph[s]: #[s]的位置上可能不只一個數,利用for迴圈一個一個讀出\n",
    "                if i not in store:\n",
    "                    if i not in sure:\n",
    "                        store.append(i) #一個一個新增進暫存的list\n",
    "        \n",
    "            "
   ]
  },
  {
   "cell_type": "markdown",
   "metadata": {},
   "source": [
    "取完s位置的元素後 \n",
    "\n",
    "將s新增進確定的sure，並從store中刪除s \n",
    "\n",
    "代表已經檢查過該位置了"
   ]
  },
  {
   "cell_type": "code",
   "execution_count": 37,
   "metadata": {},
   "outputs": [],
   "source": [
    "class Graph:\n",
    "    \n",
    "    def __init__(self):\n",
    "        self.graph = defaultdict(list) \n",
    "\n",
    "        \n",
    "    def addEdge(self,u,v): \n",
    "        self.graph[u].append(v) \n",
    "        return self.graph\n",
    "\n",
    "    \n",
    "    def BFS(self, s):\n",
    "        \n",
    "        store = [] #暫存的list\n",
    "        sure = [] #確定的list\n",
    "        \n",
    "        for a in range(len(self.graph)): #self.graph的長度=要排序的個數\n",
    "            if s not in store:\n",
    "                    if s not in sure:\n",
    "                        store.append(s) #若s皆不在暫存及確定的list中則新增進暫存的list\n",
    "        \n",
    "            for i in self.graph[s]: #[s]的位置上可能不只一個數,利用for迴圈一個一個讀出\n",
    "                if i not in store:\n",
    "                    if i not in sure:\n",
    "                        store.append(i) #一個一個新增進暫存的list\n",
    "        \n",
    "            sure.append(s)\n",
    "            store.pop(0) #將新增進確定的list從暫存區刪除\n",
    "           "
   ]
  },
  {
   "cell_type": "markdown",
   "metadata": {},
   "source": [
    "最後寫一個if-else判斷\n",
    "1. 若確定的list(sure)的長度等於原始資料的長度，就完成排序了！\n",
    "2. 若不等於，則將s設為要檢查的下一個項目"
   ]
  },
  {
   "cell_type": "code",
   "execution_count": 44,
   "metadata": {},
   "outputs": [],
   "source": [
    "class Graph:\n",
    "    \n",
    "    def __init__(self):\n",
    "        self.graph = defaultdict(list) \n",
    "\n",
    "        \n",
    "    def addEdge(self,u,v): \n",
    "        self.graph[u].append(v) \n",
    "        return self.graph\n",
    "\n",
    "    \n",
    "    def BFS(self, s):\n",
    "        \n",
    "        store = [] #暫存的list\n",
    "        sure = [] #確定的list\n",
    "        \n",
    "        for a in range(len(self.graph)): #self.graph的長度=要排序的個數\n",
    "            if s not in store:\n",
    "                    if s not in sure:\n",
    "                        store.append(s) #若s皆不在暫存及確定的list中則新增進暫存的list\n",
    "        \n",
    "            for i in self.graph[s]: #[s]的位置上可能不只一個數,利用for迴圈一個一個讀出\n",
    "                if i not in store:\n",
    "                    if i not in sure:\n",
    "                        store.append(i) #一個一個新增進暫存的list\n",
    "        \n",
    "            sure.append(s)\n",
    "            store.pop(0) #將新增進確定的list從暫存區刪除\n",
    "           \n",
    "        \n",
    "            if len(sure) == len(self.graph): #sure的個數=self.graph個數代表已經排序好\n",
    "                return sure\n",
    "            \n",
    "            else:\n",
    "                s = store[0] "
   ]
  },
  {
   "cell_type": "markdown",
   "metadata": {},
   "source": [
    "如此一來，BFS就完成了。\n",
    "\n",
    "接下來用助教給的測資試試看："
   ]
  },
  {
   "cell_type": "code",
   "execution_count": 46,
   "metadata": {},
   "outputs": [],
   "source": [
    "g = Graph()"
   ]
  },
  {
   "cell_type": "code",
   "execution_count": 47,
   "metadata": {},
   "outputs": [
    {
     "data": {
      "text/plain": [
       "defaultdict(list, {0: [1]})"
      ]
     },
     "execution_count": 47,
     "metadata": {},
     "output_type": "execute_result"
    }
   ],
   "source": [
    "g.addEdge(0,1)"
   ]
  },
  {
   "cell_type": "code",
   "execution_count": 48,
   "metadata": {},
   "outputs": [
    {
     "data": {
      "text/plain": [
       "defaultdict(list, {0: [1, 2]})"
      ]
     },
     "execution_count": 48,
     "metadata": {},
     "output_type": "execute_result"
    }
   ],
   "source": [
    "g.addEdge(0,2)"
   ]
  },
  {
   "cell_type": "code",
   "execution_count": 49,
   "metadata": {},
   "outputs": [
    {
     "data": {
      "text/plain": [
       "defaultdict(list, {0: [1, 2], 1: [2]})"
      ]
     },
     "execution_count": 49,
     "metadata": {},
     "output_type": "execute_result"
    }
   ],
   "source": [
    "g.addEdge(1,2)"
   ]
  },
  {
   "cell_type": "code",
   "execution_count": 50,
   "metadata": {},
   "outputs": [
    {
     "data": {
      "text/plain": [
       "defaultdict(list, {0: [1, 2], 1: [2], 2: [0]})"
      ]
     },
     "execution_count": 50,
     "metadata": {},
     "output_type": "execute_result"
    }
   ],
   "source": [
    "g.addEdge(2,0)"
   ]
  },
  {
   "cell_type": "code",
   "execution_count": 51,
   "metadata": {},
   "outputs": [
    {
     "data": {
      "text/plain": [
       "defaultdict(list, {0: [1, 2], 1: [2], 2: [0, 3]})"
      ]
     },
     "execution_count": 51,
     "metadata": {},
     "output_type": "execute_result"
    }
   ],
   "source": [
    "g.addEdge(2,3)"
   ]
  },
  {
   "cell_type": "code",
   "execution_count": 52,
   "metadata": {},
   "outputs": [
    {
     "data": {
      "text/plain": [
       "defaultdict(list, {0: [1, 2], 1: [2], 2: [0, 3], 3: [3]})"
      ]
     },
     "execution_count": 52,
     "metadata": {},
     "output_type": "execute_result"
    }
   ],
   "source": [
    "g.addEdge(3,3)"
   ]
  },
  {
   "cell_type": "code",
   "execution_count": 53,
   "metadata": {},
   "outputs": [
    {
     "data": {
      "text/plain": [
       "[2, 0, 3, 1]"
      ]
     },
     "execution_count": 53,
     "metadata": {},
     "output_type": "execute_result"
    }
   ],
   "source": [
    "g.BFS(2)"
   ]
  },
  {
   "cell_type": "markdown",
   "metadata": {},
   "source": [
    "成功！BFS就這樣完成了～"
   ]
  },
  {
   "cell_type": "markdown",
   "metadata": {},
   "source": [
    "接下來，來試著寫寫看DFS的程式碼 \n",
    "\n",
    "首先，一樣設置一個stack來放暫存的和一個sure的放檢查過的元素 \n",
    "\n",
    "(因為DFS的概念像是stack的先進後出，所以暫存取名為stack) \n",
    "\n",
    "並寫一個while迴圈，若sure和原始資料一樣長就等於排序完成 \n",
    "\n",
    "若s不在sure之中，則新增s \n",
    "\n",
    "把stack設為s位置的list"
   ]
  },
  {
   "cell_type": "code",
   "execution_count": 77,
   "metadata": {},
   "outputs": [],
   "source": [
    "class Graph:\n",
    "    \n",
    "    def __init__(self):\n",
    "        self.graph = defaultdict(list) \n",
    "\n",
    "        \n",
    "    def addEdge(self,u,v): \n",
    "        self.graph[u].append(v) \n",
    "        return self.graph\n",
    "\n",
    "    \n",
    "    def DFS(self, s):\n",
    "        \n",
    "        stack = []\n",
    "        sure = []\n",
    "        i = 1\n",
    "        \n",
    "        while len(sure) != len(self.graph): \n",
    "            \n",
    "            if s not in sure:\n",
    "                sure.append(s)\n",
    "                    \n",
    "            stack = self.graph[s]\n",
    "            "
   ]
  },
  {
   "cell_type": "markdown",
   "metadata": {},
   "source": [
    "再來\n",
    "1. 若s位置的stack是空的，並在sure中往回推一個元素，並取名為node，stack也更新為存在node位置的list\n",
    "2. 若不是空的，則將stack裡的最後一項取名為node"
   ]
  },
  {
   "cell_type": "code",
   "execution_count": 84,
   "metadata": {},
   "outputs": [],
   "source": [
    "class Graph:\n",
    "    \n",
    "    def __init__(self):\n",
    "        self.graph = defaultdict(list) \n",
    "\n",
    "        \n",
    "    def addEdge(self,u,v): \n",
    "        self.graph[u].append(v) \n",
    "        return self.graph\n",
    "\n",
    "    \n",
    "    def DFS(self, s):\n",
    "        \n",
    "        stack = []\n",
    "        sure = []\n",
    "        i = 1\n",
    "        \n",
    "        while len(sure) != len(self.graph):\n",
    "            \n",
    "            if s not in sure:\n",
    "                sure.append(s)\n",
    "                    \n",
    "            stack = self.graph[s]\n",
    "            \n",
    "            if stack == []:\n",
    "                node = sure[-1-i]\n",
    "                i+=1\n",
    "                stack = self.graph[node]\n",
    "                \n",
    "            else:\n",
    "                node = stack[-1]\n",
    "            \n",
    "   \n",
    "                "
   ]
  },
  {
   "cell_type": "markdown",
   "metadata": {},
   "source": [
    "最後\n",
    "\n",
    "若node不在sure中，則新增進去，並將它從stack中刪除\n",
    "\n",
    "若在sure之中，則判斷stack是否為空的\n",
    "\n",
    "再判斷stack的最上面那一項是否在sure中，若是則直接刪除，若否則成為node"
   ]
  },
  {
   "cell_type": "code",
   "execution_count": 108,
   "metadata": {},
   "outputs": [],
   "source": [
    "class Graph:\n",
    "    \n",
    "    def __init__(self):\n",
    "        self.graph = defaultdict(list) \n",
    "\n",
    "        \n",
    "    def addEdge(self,u,v): \n",
    "        self.graph[u].append(v) \n",
    "        return self.graph\n",
    "\n",
    "    \n",
    "    def DFS(self, s):\n",
    "        \n",
    "        stack = []\n",
    "        sure = []\n",
    "        i = 1\n",
    "        \n",
    "        while len(sure) != len(self.graph):\n",
    "            \n",
    "            if s not in sure:\n",
    "                sure.append(s)\n",
    "                    \n",
    "            stack = self.graph[s]\n",
    "            \n",
    "            if stack == []: #若stack是空的就從sure中往回推一個元素\n",
    "                node = sure[-1-i]\n",
    "                i+=1\n",
    "                stack = self.graph[node]\n",
    "                \n",
    "            else:\n",
    "                node = stack[-1]\n",
    "            \n",
    "            if node not in sure:\n",
    "                sure.append(node)\n",
    "                stack.pop()\n",
    "                \n",
    "            else:\n",
    "                if stack !=[]: #若該點的stack不是空的\n",
    "                    if stack[-1] not in sure: #若stack最上層的元素不在sure中\n",
    "                        node = stack[-1]\n",
    "                    \n",
    "                    else:\n",
    "                        stack.pop() #若在就直接從stack中刪除掉\n",
    "            \n",
    "            \n",
    "            s = node #令下一個s為node\n",
    "            \n",
    "        return sure\n",
    "                "
   ]
  },
  {
   "cell_type": "markdown",
   "metadata": {},
   "source": [
    "一樣用助教給的測資來試試DFS"
   ]
  },
  {
   "cell_type": "code",
   "execution_count": 110,
   "metadata": {},
   "outputs": [],
   "source": [
    "g = Graph()"
   ]
  },
  {
   "cell_type": "code",
   "execution_count": 111,
   "metadata": {},
   "outputs": [
    {
     "data": {
      "text/plain": [
       "defaultdict(list, {0: [1]})"
      ]
     },
     "execution_count": 111,
     "metadata": {},
     "output_type": "execute_result"
    }
   ],
   "source": [
    "g.addEdge(0,1)"
   ]
  },
  {
   "cell_type": "code",
   "execution_count": 112,
   "metadata": {},
   "outputs": [
    {
     "data": {
      "text/plain": [
       "defaultdict(list, {0: [1, 2]})"
      ]
     },
     "execution_count": 112,
     "metadata": {},
     "output_type": "execute_result"
    }
   ],
   "source": [
    "g.addEdge(0,2)"
   ]
  },
  {
   "cell_type": "code",
   "execution_count": 113,
   "metadata": {},
   "outputs": [
    {
     "data": {
      "text/plain": [
       "defaultdict(list, {0: [1, 2], 1: [2]})"
      ]
     },
     "execution_count": 113,
     "metadata": {},
     "output_type": "execute_result"
    }
   ],
   "source": [
    "g.addEdge(1,2)"
   ]
  },
  {
   "cell_type": "code",
   "execution_count": 114,
   "metadata": {},
   "outputs": [
    {
     "data": {
      "text/plain": [
       "defaultdict(list, {0: [1, 2], 1: [2], 2: [0]})"
      ]
     },
     "execution_count": 114,
     "metadata": {},
     "output_type": "execute_result"
    }
   ],
   "source": [
    "g.addEdge(2,0)"
   ]
  },
  {
   "cell_type": "code",
   "execution_count": 115,
   "metadata": {},
   "outputs": [
    {
     "data": {
      "text/plain": [
       "defaultdict(list, {0: [1, 2], 1: [2], 2: [0, 3]})"
      ]
     },
     "execution_count": 115,
     "metadata": {},
     "output_type": "execute_result"
    }
   ],
   "source": [
    "g.addEdge(2,3)"
   ]
  },
  {
   "cell_type": "code",
   "execution_count": 116,
   "metadata": {},
   "outputs": [
    {
     "data": {
      "text/plain": [
       "defaultdict(list, {0: [1, 2], 1: [2], 2: [0, 3], 3: [3]})"
      ]
     },
     "execution_count": 116,
     "metadata": {},
     "output_type": "execute_result"
    }
   ],
   "source": [
    "g.addEdge(3,3)"
   ]
  },
  {
   "cell_type": "code",
   "execution_count": 117,
   "metadata": {},
   "outputs": [
    {
     "data": {
      "text/plain": [
       "[2, 3, 0, 1]"
      ]
     },
     "execution_count": 117,
     "metadata": {},
     "output_type": "execute_result"
    }
   ],
   "source": [
    "g.DFS(2)"
   ]
  },
  {
   "cell_type": "markdown",
   "metadata": {},
   "source": [
    "如此一來，DFS也就完成了～"
   ]
  },
  {
   "cell_type": "code",
   "execution_count": null,
   "metadata": {},
   "outputs": [],
   "source": []
  }
 ],
 "metadata": {
  "kernelspec": {
   "display_name": "Python 3",
   "language": "python",
   "name": "python3"
  },
  "language_info": {
   "codemirror_mode": {
    "name": "ipython",
    "version": 3
   },
   "file_extension": ".py",
   "mimetype": "text/x-python",
   "name": "python",
   "nbconvert_exporter": "python",
   "pygments_lexer": "ipython3",
   "version": "3.7.3"
  }
 },
 "nbformat": 4,
 "nbformat_minor": 2
}
