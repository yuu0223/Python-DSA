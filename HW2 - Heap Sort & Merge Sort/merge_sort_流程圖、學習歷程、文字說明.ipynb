{
 "cells": [
 {
   "cell_type": "markdown",
   "metadata": {},
   "source": [
    "首先，這是Merge Sort的流程圖： \n"
   ]
 },
 {
   "cell_type": "code",
   "execution_count": 49,
   "metadata": {},
   "outputs": [
    {
     "data": {
      "text/html": [
       "<img src=\"https://github.com/yuu0223/code-learning/blob/master/image/merge_sort_%E6%B5%81%E7%A8%8B%E5%9C%96_06170223.jpg?raw=true\" width=\"1000\" height=\"1000\"/>"
      ],
      "text/plain": [
       "<IPython.core.display.Image object>"
      ]
     },
     "execution_count": 49,
     "metadata": {},
     "output_type": "execute_result"
    }
   ],
   "source": [
    "Image(url= \"https://github.com/yuu0223/code-learning/blob/master/image/merge_sort_%E6%B5%81%E7%A8%8B%E5%9C%96_06170223.jpg?raw=true\",width = 1000,height = 1000)"
   ]
  },
  {
   "cell_type": "markdown",
   "metadata": {},
   "source": [
    "再來是我對Merge Sort的理解： \n",
    "\n",
    "1.先將原始的list分割成兩半(兩個list)，並分別進行sorted \n",
    "\n",
    "2.取兩個list中的第一個元素出來比較，較大(小)者則取出放到final_list的最後一位(第一位) \n",
    "\n",
    "3.一直重複第2步驟，直到兩個list中都沒有元素，Merge Sort才算完成"
   ]
  },
  {
   "cell_type": "code",
   "execution_count": 50,
   "metadata": {},
   "outputs": [],
   "source": [
    "class Solution():\n",
    "    def merge_sort(self, list):\n",
    "        self.list = list\n",
    "        list1 = []\n",
    "        list2 = []\n",
    "        final_list = []\n",
    "        \n",
    "        n = len(list)\n",
    "        \n",
    "        if n<=1:\n",
    "            return list\n",
    "        \n",
    "        else:\n",
    "            list1 = list[:n//2]\n",
    "            list2 = list[(n//2):]\n",
    "            \n",
    "        list1 = sorted(list1)\n",
    "        list2 = sorted(list2)\n",
    "            \n",
    "        def arrange(list1=[],list2=[]):\n",
    "            \n",
    "            if list1[0]<list2[0] or list1[0] == list2[0]:\n",
    "                final_list.append(list1[0])\n",
    "                list1 = list1.remove(list1[0])\n",
    "        \n",
    "            else:\n",
    "                final_list.append(list2[0])\n",
    "                list2 = list2.remove(list2[0])     \n",
    "        \n",
    "        arrange(list1,list2)\n",
    "        return final_list"
   ]
  },
  {
   "cell_type": "code",
   "execution_count": 51,
   "metadata": {},
   "outputs": [],
   "source": [
    "a = [3,6,100,7,20,30,-10,0,3456,-109]"
   ]
  },
  {
   "cell_type": "code",
   "execution_count": 52,
   "metadata": {},
   "outputs": [
    {
     "data": {
      "text/plain": [
       "[-109]"
      ]
     },
     "execution_count": 52,
     "metadata": {},
     "output_type": "execute_result"
    }
   ],
   "source": [
    "output = Solution().merge_sort(a)\n",
    "output"
   ]
  },
  {
   "cell_type": "markdown",
   "metadata": {},
   "source": [
    "程式碼跑完後，我也發現會只跑出[-109]是因為下面的arrange(list1,list2)只呼叫了arrange這個函數一次。 \n",
    "\n",
    "所以我在後面做了一點改善... \n"
   ]
  },
  {
   "cell_type": "code",
   "execution_count": 56,
   "metadata": {},
   "outputs": [],
   "source": [
    "class Solution():\n",
    "    def merge_sort(self, list):\n",
    "        self.list = list\n",
    "        list1 = []\n",
    "        list2 = []\n",
    "        final_list = []\n",
    "        \n",
    "        n = len(list)\n",
    "        \n",
    "        if n<=1:\n",
    "            return list\n",
    "\n",
    "        else:\n",
    "            list1 = list[:n//2]\n",
    "            list2 = list[(n//2):]\n",
    "            \n",
    "        list1 = sorted(list1)\n",
    "        list2 = sorted(list2)\n",
    "            \n",
    "        def arrange(list1=[],list2=[]):\n",
    "            \n",
    "            if list1[0]<list2[0] or list1[0] == list2[0]:\n",
    "                final_list.append(list1[0])\n",
    "                list1 = list1.remove(list1[0])\n",
    "        \n",
    "            else:\n",
    "                final_list.append(list2[0])\n",
    "                list2 = list2.remove(list2[0])     \n",
    "        \n",
    "        while(list1 != [] and list2 !=[]):\n",
    "            arrange(list1,list2) \n",
    "            \n",
    "        return final_list"
   ]
  },
  {
   "cell_type": "code",
   "execution_count": 57,
   "metadata": {},
   "outputs": [
    {
     "data": {
      "text/plain": [
       "[-109, -10, 0, 3, 6, 7, 20, 30, 100]"
      ]
     },
     "execution_count": 57,
     "metadata": {},
     "output_type": "execute_result"
    }
   ],
   "source": [
    "a = [3,6,100,7,20,30,-10,0,3456,-109]\n",
    "output = Solution().merge_sort(a)\n",
    "output"
   ]
  },
  {
   "cell_type": "code",
   "execution_count": 82,
   "metadata": {},
   "outputs": [],
   "source": [
    "class Solution():\n",
    "    def merge_sort(self, list):\n",
    "        self.list = list\n",
    "        list1 = []\n",
    "        list2 = []\n",
    "        final_list = []\n",
    "        \n",
    "        n = len(list)\n",
    "        \n",
    "        if n<=1:\n",
    "            return list\n",
    "        \n",
    "        else:\n",
    "            list1 = list[:n//2]\n",
    "            list2 = list[(n//2):] \n",
    "        #將原始list切割成兩等份\n",
    "         \n",
    "        list1 = sorted(list1)\n",
    "        list2 = sorted(list2)\n",
    "        #各自先進行排序\n",
    "            \n",
    "        def arrange(list1=[],list2=[]):\n",
    "            \n",
    "            if list1[0]<list2[0] or list1[0] == list2[0]:\n",
    "                final_list.append(list1[0])\n",
    "                list1 = list1.remove(list1[0])\n",
    "            #若list1的第一個數比list2的第一個數小或兩者相等，則將list1[0]新增至final_list，並從list1中移除\n",
    "            \n",
    "            else:\n",
    "                final_list.append(list2[0])\n",
    "                list2 = list2.remove(list2[0]) \n",
    "            #若list1的第一個數比list2的第一個數大，則將list2[0]新增至final_list，並從list2中移除\n",
    "        \n",
    "        while(list1 != [] and list2 !=[]):\n",
    "            arrange(list1,list2)\n",
    "        #判斷list1和list2內若還有值就繼續進行arrange，若無值則繼續下面的if-else\n",
    "        \n",
    "        if list1!=[]:\n",
    "            final_list.extend(list1)\n",
    "        elif list2!=[]:\n",
    "            final_list.extend(list2)\n",
    "        #將Max值直接新增至final_list的最後(因為已經無從比較)\n",
    "            \n",
    "        return final_list"
   ]
  },
  {
   "cell_type": "code",
   "execution_count": 83,
   "metadata": {},
   "outputs": [
    {
     "data": {
      "text/plain": [
       "[-109, -10, 0, 3, 6, 7, 20, 30, 100, 3456]"
      ]
     },
     "execution_count": 83,
     "metadata": {},
     "output_type": "execute_result"
    }
   ],
   "source": [
    "a = [3,6,100,7,20,30,-10,0,3456,-109]\n",
    "output = Solution().merge_sort(a)\n",
    "output"
   ]
  },
  {
   "cell_type": "code",
   "execution_count": 85,
   "metadata": {},
   "outputs": [
    {
     "data": {
      "text/plain": [
       "[-109, -10, 0, 3, 6, 7, 13, 20, 30, 100, 3456]"
      ]
     },
     "execution_count": 85,
     "metadata": {},
     "output_type": "execute_result"
    }
   ],
   "source": [
    "a = [3,6,100,7,20,30,-10,0,3456,-109,13]\n",
    "output = Solution().merge_sort(a)\n",
    "output"
   ]
  },
  {
   "cell_type": "code",
   "execution_count": null,
   "metadata": {},
   "outputs": [],
   "source": []
  }
 ],
 "metadata": {
  "kernelspec": {
   "display_name": "Python 3",
   "language": "python",
   "name": "python3"
  },
  "language_info": {
   "codemirror_mode": {
    "name": "ipython",
    "version": 3
   },
   "file_extension": ".py",
   "mimetype": "text/x-python",
   "name": "python",
   "nbconvert_exporter": "python",
   "pygments_lexer": "ipython3",
   "version": "3.7.3"
  }
 },
 "nbformat": 4,
 "nbformat_minor": 2
}
