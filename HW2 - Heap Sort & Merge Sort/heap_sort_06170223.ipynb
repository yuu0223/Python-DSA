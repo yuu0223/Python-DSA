{
 "cells": [
  {
   "cell_type": "markdown",
   "metadata": {},
   "source": [
    "**參考資料**：1.[Heap sort in C#](https://exceptionnotfound.net/heap-sort-csharp-the-sorting-algorithm-family-reunion/)   2.[老師上課ppt](https://docs.google.com/presentation/d/e/2PACX-1vToxkEzc1H1RT5MI9G941KQFBC7GO_Efn95wTqXLEdr3LDBSNcQb-M46IOC-_RzZih6IBEwwy3rWQuE/pub?start=false&loop=false&delayms=3000&slide=id.p) \n"
   ]
  },
  {
   "cell_type": "markdown",
   "metadata": {},
   "source": [
    "由於自己對heap sort沒有那麼的了解，所以決定先參考別人的做法。 \n",
    " \n ",
    "首先，這是Heap Sort的簡易版流程圖： \n"
   ]
  },
  {
   "cell_type": "code",
   "execution_count": 30,
   "metadata": {},
   "outputs": [
    {
     "data": {
      "text/html": [
       "<img src=\"https://github.com/yuu0223/code-learning/blob/master/image/heap_sort%E6%B5%81%E7%A8%8B%E5%9C%96.jpg?raw=true\" width=\"500\" height=\"500\"/>"
      ],
      "text/plain": [
       "<IPython.core.display.Image object>"
      ]
     },
     "execution_count": 30,
     "metadata": {},
     "output_type": "execute_result"
    }
   ],
   "source": [
    "Image(url= \"https://github.com/yuu0223/code-learning/blob/master/image/heap_sort%E6%B5%81%E7%A8%8B%E5%9C%96.jpg?raw=true\",width = 500,height = 500)"
   ]
  },
  {
   "cell_type": "markdown",
   "metadata": {},
   "source": [
    "然後，這是依據我對Heap Sort的初步了解所畫的流程圖範例： \n",
    " \n "
   ]
  },
  {
   "cell_type": "code",
   "execution_count": 31,
   "metadata": {},
   "outputs": [
    {
     "data": {
      "text/html": [
       "<img src=\"https://github.com/yuu0223/code-learning/blob/master/image/heap_sort_%E6%B5%81%E7%A8%8B%E5%9C%96.2jpg.jpg?raw=true\" width=\"1000\" height=\"1000\"/>"
      ],
      "text/plain": [
       "<IPython.core.display.Image object>"
      ]
     },
     "execution_count": 31,
     "metadata": {},
     "output_type": "execute_result"
    }
   ],
   "source": [
    "Image(url= \"https://github.com/yuu0223/code-learning/blob/master/image/heap_sort_%E6%B5%81%E7%A8%8B%E5%9C%96.2jpg.jpg?raw=true\",width = 1000,height = 1000)"
   ]
  },
  {
   "cell_type": "code",
   "execution_count": 33,
   "metadata": {},
   "outputs": [],
   "source": [
    "def heapify(list, len, a):\n",
    "    largest = a\n",
    "    left = 2*a+1\n",
    "    right = 2*a+2\n",
    "        \n",
    "    if left < len and list[largest] < list[left] :\n",
    "        largest = left\n",
    "\n",
    "    elif  right < len and list[largest] < list[right]:\n",
    "        largest = right\n",
    "\n",
    "    if largest != a:\n",
    "        swap = list[a]   #建一個swap寄放母項\n",
    "        list[a] = list[largest]  #將較大的子項成為母項 大的換上去\n",
    "        list[largest] = swap  #將寄放在swap的母項成為子項 小的換下來\n",
    "        heapify(list, len, largest) #換過的largest已成為2a或2a+1項，繼續heapify下面的元素"
   ]
  },
  {
   "cell_type": "code",
   "execution_count": 66,
   "metadata": {},
   "outputs": [],
   "source": [
    "class Solution(object):  \n",
    "    def heapsort(self, list):\n",
    "\n",
    "            def heapify(list, len, a):\n",
    "                largest = a\n",
    "                left = 2*a+1\n",
    "                right = 2*a+2\n",
    "        \n",
    "                if left < len and list[largest] < list[left] :\n",
    "                    largest = left\n",
    "\n",
    "                elif  right < len and list[largest] < list[right]:\n",
    "                    largest = right\n",
    "\n",
    "                if largest != a:\n",
    "                    swap = list[a]   #建一個swap寄放母項\n",
    "                    list[a] = list[largest]  #將較大的子項成為母項 大的換上去\n",
    "                    list[largest] = swap  #將寄放在swap的母項成為子項 小的換下來\n",
    "                    heapify(list, len, largest) #換過的largest已成為2a或2a+1項，繼續heapify下面的元素\n",
    "        \n",
    "            l_len = len(list)\n",
    "\n",
    "            for a in range((l_len//2)-1, -1, -1):\n",
    "                heapify(list, l_len, a)\n",
    "                #由下往上3個3個做heapify\n",
    "                \n",
    "            return list   "
   ]
  },
  {
   "cell_type": "code",
   "execution_count": 67,
   "metadata": {},
   "outputs": [],
   "source": [
    "l = [12, 11, 13, 5, 6, 7]"
   ]
  },
  {
   "cell_type": "code",
   "execution_count": 68,
   "metadata": {},
   "outputs": [
    {
     "data": {
      "text/plain": [
       "[13, 11, 12, 5, 6, 7]"
      ]
     },
     "execution_count": 68,
     "metadata": {},
     "output_type": "execute_result"
    }
   ],
   "source": [
    "output = Solution().heapsort(l)\n",
    "output"
   ]
  },
  {
   "cell_type": "markdown",
   "metadata": {},
   "source": [
    "第一個測值出來沒有問題！ \n",
    " \n "
   ]
  },
  {
   "cell_type": "code",
   "execution_count": 69,
   "metadata": {},
   "outputs": [],
   "source": [
    "b = [10,30,40,5,7,8]"
   ]
  },
  {
   "cell_type": "code",
   "execution_count": 70,
   "metadata": {},
   "outputs": [
    {
     "data": {
      "text/plain": [
       "[30, 10, 40, 5, 7, 8]"
      ]
     },
     "execution_count": 70,
     "metadata": {},
     "output_type": "execute_result"
    }
   ],
   "source": [
    "output = Solution().heapsort(b)\n",
    "output"
   ]
  },
  {
   "cell_type": "markdown",
   "metadata": {},
   "source": [
    "再試一個測值看看 \n",
    " \n ",
    "但是第二個測值就出現了問題 \n"
   ]
  },
  {
   "cell_type": "code",
   "execution_count": null,
   "metadata": {},
   "outputs": [],
   "source": []
  },
  {
   "cell_type": "code",
   "execution_count": 71,
   "metadata": {},
   "outputs": [],
   "source": [
    "class Solution(object):  \n",
    "    def heapsort(self, list):\n",
    "\n",
    "            def heapify(list, len, a):\n",
    "                largest = a\n",
    "                left = 2*a+1\n",
    "                right = 2*a+2\n",
    "        \n",
    "                if left < len and list[largest] < list[left] :\n",
    "                    largest = left\n",
    "\n",
    "                if  right < len and list[largest] < list[right]:\n",
    "                    largest = right\n",
    "\n",
    "                if largest != a:\n",
    "                    swap = list[a]   #建一個swap寄放母項\n",
    "                    list[a] = list[largest]  #將較大的子項成為母項 大的換上去\n",
    "                    list[largest] = swap  #將寄放在swap的母項成為子項 小的換下來\n",
    "                    heapify(list, len, largest) #換過的largest已成為2a或2a+1項，繼續heapify下面的元素\n",
    "        \n",
    "            l_len = len(list)\n",
    "\n",
    "            for a in range((l_len//2)-1, -1, -1):\n",
    "                heapify(list, l_len, a)\n",
    "                #由下往上3個3個做heapify\n",
    "                \n",
    "            return list   "
   ]
  },
  {
   "cell_type": "code",
   "execution_count": 72,
   "metadata": {},
   "outputs": [],
   "source": [
    "b = [10,30,40,5,7,8]"
   ]
  },
  {
   "cell_type": "code",
   "execution_count": 73,
   "metadata": {},
   "outputs": [
    {
     "data": {
      "text/plain": [
       "[40, 30, 10, 5, 7, 8]"
      ]
     },
     "execution_count": 73,
     "metadata": {},
     "output_type": "execute_result"
    }
   ],
   "source": [
    "output = Solution().heapsort(b)\n",
    "output"
   ]
  },
  {
   "cell_type": "code",
   "execution_count": 78,
   "metadata": {},
   "outputs": [],
   "source": [
    "class Solution(object):  \n",
    "    def heapsort(self, list):\n",
    "\n",
    "            def heapify(list, len, a):\n",
    "                largest = a\n",
    "                left = 2*a+1\n",
    "                right = 2*a+2\n",
    "        \n",
    "                if left < len and list[largest] < list[left] :\n",
    "                    largest = left\n",
    "\n",
    "                if  right < len and list[largest] < list[right]:\n",
    "                    largest = right\n",
    "\n",
    "                if largest != a:\n",
    "                    swap = list[a]   #建一個swap寄放母項\n",
    "                    list[a] = list[largest]  #將較大的子項成為母項 大的換上去\n",
    "                    list[largest] = swap  #將寄放在swap的母項成為子項 小的換下來\n",
    "                    heapify(list, len, largest) #換過的largest已成為2a或2a+1項，繼續heapify下面的元素\n",
    "        \n",
    "            l_len = len(list)\n",
    "\n",
    "            for a in range((l_len//2)-1, -1, -1):\n",
    "                heapify(list, l_len, a)\n",
    "                #由下往上3個3個做heapify\n",
    "\n",
    "            for a in range(l_len-1, 0, -1):\n",
    "                sure = list[0]\n",
    "                list[0] = list[a]\n",
    "                list[a] = sure\n",
    "                heapify(list, a, 0)\n",
    "                #if a ==1:\n",
    "                    #break \n",
    "            return list   "
   ]
  },
  {
   "cell_type": "code",
   "execution_count": 79,
   "metadata": {},
   "outputs": [],
   "source": [
    "l = [12, 11, 13, 5, 6, 7]"
   ]
  },
  {
   "cell_type": "code",
   "execution_count": 80,
   "metadata": {},
   "outputs": [
    {
     "data": {
      "text/plain": [
       "[5, 6, 7, 11, 12, 13]"
      ]
     },
     "execution_count": 80,
     "metadata": {},
     "output_type": "execute_result"
    }
   ],
   "source": [
    "output = Solution().heapsort(l)\n",
    "output"
   ]
  },
  {
   "cell_type": "code",
   "execution_count": 81,
   "metadata": {},
   "outputs": [],
   "source": [
    "f  = [30,300,49,58,1,34,56,123]"
   ]
  },
  {
   "cell_type": "code",
   "execution_count": 82,
   "metadata": {},
   "outputs": [
    {
     "data": {
      "text/plain": [
       "[1, 30, 34, 49, 56, 58, 123, 300]"
      ]
     },
     "execution_count": 82,
     "metadata": {},
     "output_type": "execute_result"
    }
   ],
   "source": [
    "output = Solution().heapsort(f)\n",
    "output"
   ]
  },
  {
   "cell_type": "code",
   "execution_count": null,
   "metadata": {},
   "outputs": [],
   "source": []
  }
 ],
 "metadata": {
  "kernelspec": {
   "display_name": "Python 3",
   "language": "python",
   "name": "python3"
  },
  "language_info": {
   "codemirror_mode": {
    "name": "ipython",
    "version": 3
   },
   "file_extension": ".py",
   "mimetype": "text/x-python",
   "name": "python",
   "nbconvert_exporter": "python",
   "pygments_lexer": "ipython3",
   "version": "3.7.3"
  }
 },
 "nbformat": 4,
 "nbformat_minor": 2
}
