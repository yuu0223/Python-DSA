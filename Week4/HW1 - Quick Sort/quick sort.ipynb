{
 "cells": [
  {
   "cell_type": "code",
   "execution_count": 4,
   "metadata": {},
   "outputs": [],
   "source": [
    "def quick_sort(list):\n",
    "    small = [] \n",
    "    large = []\n",
    "    key = []\n",
    "    \n",
    "    if len(list) <= 1:\n",
    "        return list \n",
    "    #若list沒有元素或是只有一項元素則不需排列，直接return list\n",
    "    \n",
    "    else:\n",
    "        keynum = list[0] \n",
    "    #取list的第0項當作keynum\n",
    "    \n",
    "    for i in list:\n",
    "        if i < keynum:\n",
    "            small.append(i)\n",
    "            \n",
    "        elif i > keynum:\n",
    "            large.append(i) \n",
    "            \n",
    "        else:\n",
    "            key.append(keynum) \n",
    "            \n",
    "    small = quick_sort(small) #被丟到small list裡的元素再進行一次quick sort\n",
    "    large = quick_sort(large) #被丟到large list裡的元素再進行一次quick sort\n",
    "    return small + key + large #最後排序好的list"
   ]
  },
{
 "cells": [
  {
   "cell_type": "markdown",
   "metadata": {},
   "source": [
    "So far, we have only dealt with linear data structures (linked lists, stacks, and queues), where items follow each other one by one. But in a tree, there is a parent-child relationship between items. In a tree, we start with a root node, and each node has some children it points to. All nodes have a parent, except root node, and root node is the ancestor of all the rest. A node without any child is called a leaf node. Trees can be very useful to some real life applications, such as a computer's file system.  "
   ]
  },
  {
   "cell_type": "code",
   "execution_count": 5,
   "metadata": {},
   "outputs": [],
   "source": [
    "app = [100,20,45,60,98,76,3,2,90]"
   ]
  },
  {
   "cell_type": "code",
   "execution_count": 6,
   "metadata": {},
   "outputs": [
    {
     "data": {
      "text/plain": [
       "[2, 3, 20, 45, 60, 76, 90, 98, 100]"
      ]
     },
     "execution_count": 6,
     "metadata": {},
     "output_type": "execute_result"
    }
   ],
   "source": [
    "quick_sort(app)"
   ]
  },
  {
   "cell_type": "code",
   "execution_count": null,
   "metadata": {},
   "outputs": [],
   "source": []
  }
 ],
 "metadata": {
  "kernelspec": {
   "display_name": "Python 3",
   "language": "python",
   "name": "python3"
  },
  "language_info": {
   "codemirror_mode": {
    "name": "ipython",
    "version": 3
   },
   "file_extension": ".py",
   "mimetype": "text/x-python",
   "name": "python",
   "nbconvert_exporter": "python",
   "pygments_lexer": "ipython3",
   "version": "3.6.8"
  }
 },
 "nbformat": 4,
 "nbformat_minor": 2
}
