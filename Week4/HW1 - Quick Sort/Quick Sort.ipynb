{
 "cells": [
  {
   "cell_type": "code",
   "execution_count": 7,
   "metadata": {},
   "outputs": [],
   "source": [
    " #用list製作Quick Sort步驟：\n",
    "    #1. 建立三個list，分別為small、key、large。\n",
    "    #2. 判斷list的長度是否大於1，若是則進行下一步，若否則停止並return list。\n",
    "    #3. 取出list的第一個項目(list[0])來當作分組的依據(keynum)。\n",
    "    #4. 判斷list中各個項目(list[i])是否小於、大於或等於keynum。\n",
    "    #5. 小於keynum將元素丟入small，大於keynum則丟入large，等於keynum則丟入key。\n",
    "    #6. 將small和large這兩個list分別再進行一次quick sort。\n",
    "    #7. 最後，輸出已經排序好的結果。"
   ]
  },
  {
   "cell_type": "code",
   "execution_count": 8,
   "metadata": {},
   "outputs": [],
   "source": [
    "def quick_sort(list):\n",
    "    small = [] \n",
    "    large = []\n",
    "    key = []\n",
    "    \n",
    "    if len(list) <= 1:\n",
    "        return list \n",
    "    #若list沒有元素或是只有一項元素則不需排列，直接return list\n",
    "    \n",
    "    else:\n",
    "        keynum = list[0] \n",
    "    #取list的第0項當作keynum\n",
    "    \n",
    "    for i in list:\n",
    "        if i < keynum:\n",
    "            small.append(i)\n",
    "            \n",
    "        elif i > keynum:\n",
    "            large.append(i) \n",
    "            \n",
    "        else:\n",
    "            key.append(keynum) \n",
    "            \n",
    "    small = quick_sort(small) #被丟到small list裡的元素再進行一次quick sort\n",
    "    large = quick_sort(large) #被丟到large list裡的元素再進行一次quick sort\n",
    "    return small + key + large #最後排序好的list"
   ]
  },
  {
   "cell_type": "code",
   "execution_count": 9,
   "metadata": {},
   "outputs": [],
   "source": [
    "app = [100,20,45,60,98,76,3,2,90]"
   ]
  },
  {
   "cell_type": "code",
   "execution_count": 10,
   "metadata": {},
   "outputs": [
    {
     "data": {
      "text/plain": [
       "[2, 3, 20, 45, 60, 76, 90, 98, 100]"
      ]
     },
     "execution_count": 10,
     "metadata": {},
     "output_type": "execute_result"
    }
   ],
   "source": [
    "quick_sort(app)"
   ]
  },
  {
   "cell_type": "code",
   "execution_count": null,
   "metadata": {},
   "outputs": [],
   "source": []
  }
 ],
 "metadata": {
  "kernelspec": {
   "display_name": "Python 3",
   "language": "python",
   "name": "python3"
  },
  "language_info": {
   "codemirror_mode": {
    "name": "ipython",
    "version": 3
   },
   "file_extension": ".py",
   "mimetype": "text/x-python",
   "name": "python",
   "nbconvert_exporter": "python",
   "pygments_lexer": "ipython3",
   "version": "3.6.8"
  }
 },
 "nbformat": 4,
 "nbformat_minor": 2
}
